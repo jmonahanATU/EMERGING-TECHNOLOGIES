{
 "cells": [
  {
   "cell_type": "markdown",
   "metadata": {},
   "source": [
    "# Task 1: Third-Order Letter Approximation Model\n",
    "\n",
    "In this task, we will load five English books, clean their text, and build a trigram model from the cleaned text. A trigram model counts the occurrences of each sequence of three consecutive characters in the text, allowing us to analyze the structure of the language."
   ]
  },
  {
   "cell_type": "code",
   "execution_count": 74,
   "metadata": {},
   "outputs": [],
   "source": [
    "# Import necessary libraries\n",
    "import random\n",
    "from collections import defaultdict"
   ]
  },
  {
   "cell_type": "code",
   "execution_count": 75,
   "metadata": {},
   "outputs": [],
   "source": [
    "def load_books(file_paths):\n",
    "    texts = []  # Initialize an empty list to store the content of each book\n",
    "    for file_path in file_paths:  # Loop through each file path in the list\n",
    "        with open(file_path, 'r', encoding='utf-8') as f:  # Open the file in read mode with UTF-8 encoding\n",
    "            texts.append(f.read())  # Read the entire content and append it to the texts list\n",
    "    return texts  # Return the list of all loaded books"
   ]
  },
  {
   "cell_type": "code",
   "execution_count": 76,
   "metadata": {},
   "outputs": [],
   "source": [
    "#list of file paths to the books stored in the 'texts' folder\n",
    "file_paths = ['texts/book1.txt', 'texts/book2.txt', 'texts/book3.txt', 'texts/book4.txt', 'texts/book5.txt']\n",
    "books = load_books(file_paths)  # Call the load_books function"
   ]
  },
  {
   "cell_type": "markdown",
   "metadata": {},
   "source": [
    "## Step 2: Clean Text\n",
    "\n",
    "In this step, we will clean the text from each book to ensure that we only retain uppercase letters, spaces, and full stops. This process will help us in building an accurate trigram model.\n"
   ]
  },
  {
   "cell_type": "code",
   "execution_count": 77,
   "metadata": {},
   "outputs": [],
   "source": [
    "def clean_text(text):\n",
    "    text = text.upper()  # Convert the text to uppercase\n",
    "    # Keep only letters, spaces, and full stops\n",
    "    cleaned_text = ''.join([char for char in text if char.isalpha() or char == ' ' or char == '.'])\n",
    "    return cleaned_text  # Return the cleaned text\n",
    "\n",
    "# Clean each book\n",
    "cleaned_books = [clean_text(book) for book in books]  # Apply the clean_text function to all books"
   ]
  },
  {
   "cell_type": "markdown",
   "metadata": {},
   "source": [
    "## Step 3: Build Trigram Model\n",
    "\n",
    "Here, we will construct a trigram model from the cleaned text. The model will count the occurrences of each sequence of three consecutive characters. This will allow us to analyze the character structure of the text.\n"
   ]
  },
  {
   "cell_type": "code",
   "execution_count": 78,
   "metadata": {},
   "outputs": [],
   "source": [
    "def build_trigram_model(text):\n",
    "    trigram_model = defaultdict(int)  # Create a defaultdict to store trigram counts\n",
    "    for i in range(len(text) - 2):  # Iterate through the text, leaving space for the last two characters\n",
    "        trigram = text[i:i+3]  # Extract a trigram (3 characters)\n",
    "        trigram_model[trigram] += 1  # Increment the count for this trigram in the model\n",
    "    return trigram_model  # Return the trigram model\n",
    "\n",
    "# Initialize a combined trigram model to accumulate counts from all books\n",
    "trigram_model = defaultdict(int)\n"
   ]
  },
  {
   "cell_type": "code",
   "execution_count": 79,
   "metadata": {},
   "outputs": [],
   "source": [
    "# Loop over each cleaned book to build the trigram model for that book\n",
    "for book in cleaned_books:\n",
    "    book_trigram_model = build_trigram_model(book)  # Build the trigram model for the current book\n",
    "    # Merge the current book's trigram model with the overall model\n",
    "    for trigram, count in book_trigram_model.items():\n",
    "        trigram_model[trigram] += count  # Add the count of this trigram to the overall model"
   ]
  },
  {
   "cell_type": "markdown",
   "metadata": {},
   "source": [
    "## Step 4: Output the Trigram Model\n",
    "\n",
    "Finally, we will display a sample of the trigram model to verify that it has been constructed correctly."
   ]
  },
  {
   "cell_type": "code",
   "execution_count": 80,
   "metadata": {},
   "outputs": [
    {
     "name": "stdout",
     "output_type": "stream",
     "text": [
      "Trigram: \"THE\", Count: 22365\n",
      "Trigram: \"HE \", Count: 20954\n",
      "Trigram: \"E P\", Count: 1892\n",
      "Trigram: \" PR\", Count: 1947\n",
      "Trigram: \"PRO\", Count: 1493\n",
      "Trigram: \"ROJ\", Count: 444\n",
      "Trigram: \"OJE\", Count: 445\n",
      "Trigram: \"JEC\", Count: 541\n",
      "Trigram: \"ECT\", Count: 1409\n",
      "Trigram: \"CT \", Count: 759\n"
     ]
    }
   ],
   "source": [
    "# Display the first 10 trigrams and their counts\n",
    "for i, (trigram, count) in enumerate(trigram_model.items()):\n",
    "    if i < 10:  # Limit output to the first 10 trigrams\n",
    "        print(f'Trigram: \"{trigram}\", Count: {count}')"
   ]
  }
 ],
 "metadata": {
  "kernelspec": {
   "display_name": "Python 3",
   "language": "python",
   "name": "python3"
  },
  "language_info": {
   "codemirror_mode": {
    "name": "ipython",
    "version": 3
   },
   "file_extension": ".py",
   "mimetype": "text/x-python",
   "name": "python",
   "nbconvert_exporter": "python",
   "pygments_lexer": "ipython3",
   "version": "3.11.9"
  }
 },
 "nbformat": 4,
 "nbformat_minor": 2
}
