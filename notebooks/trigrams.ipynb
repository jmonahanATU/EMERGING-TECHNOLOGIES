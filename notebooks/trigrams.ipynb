{
 "cells": [
  {
   "cell_type": "code",
   "execution_count": null,
   "metadata": {},
   "outputs": [],
   "source": [
    "def load_books(file_paths):\n",
    "    texts = []\n",
    "    for file_path in file_paths:\n",
    "        with open(file_path, 'r', encoding='utf-8') as f:\n",
    "            texts.append(f.read())\n",
    "    return texts\n",
    "\n",
    "# Example of loading five books from 'texts' folder\n",
    "file_paths = ['texts/book1.txt', 'texts/book2.txt', 'texts/book3.txt', 'texts/book4.txt', 'texts/book5.txt']\n",
    "books = load_books(file_paths)\n"
   ]
  },
  {
   "cell_type": "code",
   "execution_count": null,
   "metadata": {},
   "outputs": [],
   "source": [
    "def clean_text(text):\n",
    "    # Convert to uppercase\n",
    "    text = text.upper()\n",
    "    # Keep only letters, spaces, and full stops\n",
    "    cleaned_text = ''.join([char for char in text if char.isalpha() or char == ' ' or char == '.'])\n",
    "    return cleaned_text\n",
    "\n",
    "# Clean each book\n",
    "cleaned_books = [clean_text(book) for book in books]\n"
   ]
  },
  {
   "cell_type": "code",
   "execution_count": null,
   "metadata": {},
   "outputs": [],
   "source": [
    "from collections import defaultdict\n",
    "\n",
    "def build_trigram_model(text):\n",
    "    trigram_model = defaultdict(int)  # Dictionary to store trigram counts\n",
    "    for i in range(len(text) - 2):\n",
    "        trigram = text[i:i+3]  # Extract a trigram (3 characters)\n",
    "        trigram_model[trigram] += 1  # Increment the count of the trigram\n",
    "    return trigram_model\n",
    "\n",
    "# Build the trigram model for each cleaned book\n",
    "trigram_model = defaultdict(int)\n",
    "\n",
    "# Combine trigrams from all books\n",
    "for book in cleaned_books:\n",
    "    book_trigram_model = build_trigram_model(book)\n",
    "    for trigram, count in book_trigram_model.items():\n",
    "        trigram_model[trigram] += count\n"
   ]
  },
  {
   "cell_type": "code",
   "execution_count": null,
   "metadata": {},
   "outputs": [],
   "source": [
    "# Display the first 10 trigrams and their counts\n",
    "for trigram, count in list(trigram_model.items())[:10]:\n",
    "    print(f\"{trigram}: {count}\")\n"
   ]
  }
 ],
 "metadata": {
  "language_info": {
   "name": "python"
  }
 },
 "nbformat": 4,
 "nbformat_minor": 2
}
