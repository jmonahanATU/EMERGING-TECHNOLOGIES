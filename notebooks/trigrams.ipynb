{
 "cells": [
  {
   "cell_type": "code",
   "execution_count": 21,
   "metadata": {},
   "outputs": [],
   "source": [
    "def load_books(file_paths):\n",
    "    # Initialize an empty list to store the content of each book\n",
    "    texts = []\n",
    "    \n",
    "    # Loop through each file path in the list of file paths\n",
    "    for file_path in file_paths:\n",
    "        # Open the file in read mode with UTF-8 encoding\n",
    "        with open(file_path, 'r', encoding='utf-8') as f:\n",
    "            # Read the entire content of the file and append it to the texts list\n",
    "            texts.append(f.read())\n",
    "    \n",
    "    # Return the list of all loaded books\n",
    "    return texts\n",
    "\n",
    "# Example list of file paths to the books stored in the 'texts' folder\n",
    "file_paths = ['texts/book1.txt', 'texts/book2.txt', 'texts/book3.txt', 'texts/book4.txt', 'texts/book5.txt']\n",
    "\n",
    "# Call the load_books function to load the content of the books into the 'books' list\n",
    "books = load_books(file_paths)\n"
   ]
  },
  {
   "cell_type": "code",
   "execution_count": null,
   "metadata": {},
   "outputs": [],
   "source": [
    "def clean_text(text):\n",
    "    # Convert to uppercase\n",
    "    text = text.upper()\n",
    "    # Keep only letters, spaces, and full stops\n",
    "    cleaned_text = ''.join([char for char in text if char.isalpha() or char == ' ' or char == '.'])\n",
    "    return cleaned_text\n",
    "\n",
    "# Clean each book\n",
    "cleaned_books = [clean_text(book) for book in books]\n"
   ]
  }
 ],
 "metadata": {
  "kernelspec": {
   "display_name": "Python 3",
   "language": "python",
   "name": "python3"
  },
  "language_info": {
   "codemirror_mode": {
    "name": "ipython",
    "version": 3
   },
   "file_extension": ".py",
   "mimetype": "text/x-python",
   "name": "python",
   "nbconvert_exporter": "python",
   "pygments_lexer": "ipython3",
   "version": "3.11.9"
  }
 },
 "nbformat": 4,
 "nbformat_minor": 2
}
