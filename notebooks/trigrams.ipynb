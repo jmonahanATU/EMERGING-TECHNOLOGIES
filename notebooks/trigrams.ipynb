{
 "cells": [
  {
   "cell_type": "code",
   "execution_count": 26,
   "metadata": {},
   "outputs": [],
   "source": [
    "def load_books(file_paths):\n",
    "    texts = []\n",
    "    \n",
    "    for file_path in file_paths:\n",
    "        with open(file_path, 'r', encoding='utf-8') as f:\n",
    "            texts.append(f.read())\n",
    "    \n",
    "    return texts\n",
    "\n",
    "file_paths = ['texts/book1.txt', 'texts/book2.txt', 'texts/book3.txt', 'texts/book4.txt', 'texts/book5.txt']\n",
    "\n",
    "books = load_books(file_paths)\n"
   ]
  },
  {
   "cell_type": "markdown",
   "metadata": {},
   "source": [
    "Initialize an empty list to store the content of each book: texts = []\n",
    "Loop through each file path in the list of file paths: for file_path in file_paths:\n",
    "Open the file in read mode with UTF-8 encoding: with open(file_path, 'r', encoding='utf-8') as f:\n",
    "Read the entire content of the file and append it to the texts list: texts.append(f.read())\n",
    "Return the list of all loaded books: return texts\n",
    "Example list of file paths to the books stored in the 'texts' folder: file_paths = ['texts/book1.txt', 'texts/book2.txt', 'texts/book3.txt', 'texts/book4.txt', 'texts/book5.txt']\n",
    "Call the load_books function to load the content of the books into the books list: books = load_books(file_paths)"
   ]
  },
  {
   "cell_type": "code",
   "execution_count": 27,
   "metadata": {},
   "outputs": [],
   "source": [
    "def clean_text(text):\n",
    "    text = text.upper()\n",
    "    cleaned_text = ''.join([char for char in text if char.isalpha() or char == ' ' or char == '.'])\n",
    "    return cleaned_text\n",
    "\n",
    "cleaned_books = [clean_text(book) for book in books]\n"
   ]
  },
  {
   "cell_type": "markdown",
   "metadata": {},
   "source": [
    "Convert the text to uppercase: text = text.upper()\n",
    "Keep only letters, spaces, and full stops using list comprehension: cleaned_text = ''.join([char for char in text if char.isalpha() or char == ' ' or char == '.'])\n",
    "Return the cleaned text: return cleaned_text\n",
    "Clean each book by applying the clean_text function to all books: cleaned_books = [clean_text(book) for book in books]"
   ]
  },
  {
   "cell_type": "code",
   "execution_count": null,
   "metadata": {},
   "outputs": [],
   "source": [
    "from collections import defaultdict  \n",
    "\n",
    "def build_trigram_model(text):\n",
    "    trigram_model = defaultdict(int)  \n",
    "    for i in range(len(text) - 2):  \n",
    "        trigram = text[i:i+3]  \n",
    "        trigram_model[trigram] += 1  \n",
    "    return trigram_model\n",
    "\n",
    "trigram_model = defaultdict(int)\n",
    "\n",
    "for book in cleaned_books:\n",
    "    book_trigram_model = build_trigram_model(book)\n",
    "    for trigram, count in book_trigram_model.items():\n",
    "        trigram_model[trigram] += count"
   ]
  },
  {
   "cell_type": "markdown",
   "metadata": {},
   "source": []
  }
 ],
 "metadata": {
  "kernelspec": {
   "display_name": "Python 3",
   "language": "python",
   "name": "python3"
  },
  "language_info": {
   "codemirror_mode": {
    "name": "ipython",
    "version": 3
   },
   "file_extension": ".py",
   "mimetype": "text/x-python",
   "name": "python",
   "nbconvert_exporter": "python",
   "pygments_lexer": "ipython3",
   "version": "3.11.9"
  }
 },
 "nbformat": 4,
 "nbformat_minor": 2
}
